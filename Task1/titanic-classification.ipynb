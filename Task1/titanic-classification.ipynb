{
 "cells": [
  {
   "cell_type": "markdown",
   "metadata": {},
   "source": [
    "# TITANIC CLASSIFICATION\n"
   ]
  },
  {
   "cell_type": "markdown",
   "metadata": {},
   "source": [
    "**Table of content**\n",
    "- Import Required Libraries\n",
    "- Data Cleaning and Preparation\n",
    "- Exploratory Data Analysis (EDA)\n",
    "- Build a Prediction Model\n",
    "    - Logistic Regression Model\n",
    "    - Random Forest model\n",
    "- Predict on the test dataset"
   ]
  },
  {
   "cell_type": "markdown",
   "metadata": {},
   "source": [
    "# Import Required Libraries "
   ]
  },
  {
   "cell_type": "code",
   "execution_count": 1,
   "metadata": {
    "execution": {
     "iopub.execute_input": "2025-01-18T14:07:59.378944Z",
     "iopub.status.busy": "2025-01-18T14:07:59.378351Z",
     "iopub.status.idle": "2025-01-18T14:07:59.386255Z",
     "shell.execute_reply": "2025-01-18T14:07:59.384767Z",
     "shell.execute_reply.started": "2025-01-18T14:07:59.378880Z"
    },
    "trusted": true
   },
   "outputs": [],
   "source": [
    "# import required libraries\n",
    "import pandas as pd\n",
    "\n",
    "import seaborn as sns\n",
    "import matplotlib.pyplot as plt\n",
    "import warnings\n",
    "warnings.filterwarnings(\"ignore\")\n",
    "\n",
    "from sklearn.model_selection import train_test_split\n",
    "from sklearn.ensemble import RandomForestClassifier\n",
    "from sklearn.linear_model import LogisticRegression\n",
    "from sklearn.metrics import accuracy_score, classification_report, confusion_matrix"
   ]
  },
  {
   "cell_type": "markdown",
   "metadata": {},
   "source": [
    "# Data Cleaning and Preparation"
   ]
  },
  {
   "cell_type": "code",
   "execution_count": 2,
   "metadata": {
    "execution": {
     "iopub.execute_input": "2025-01-18T14:07:59.398609Z",
     "iopub.status.busy": "2025-01-18T14:07:59.398259Z",
     "iopub.status.idle": "2025-01-18T14:07:59.438147Z",
     "shell.execute_reply": "2025-01-18T14:07:59.436930Z",
     "shell.execute_reply.started": "2025-01-18T14:07:59.398581Z"
    },
    "trusted": true
   },
   "outputs": [
    {
     "data": {
      "text/html": [
       "<div>\n",
       "<style scoped>\n",
       "    .dataframe tbody tr th:only-of-type {\n",
       "        vertical-align: middle;\n",
       "    }\n",
       "\n",
       "    .dataframe tbody tr th {\n",
       "        vertical-align: top;\n",
       "    }\n",
       "\n",
       "    .dataframe thead th {\n",
       "        text-align: right;\n",
       "    }\n",
       "</style>\n",
       "<table border=\"1\" class=\"dataframe\">\n",
       "  <thead>\n",
       "    <tr style=\"text-align: right;\">\n",
       "      <th></th>\n",
       "      <th>PassengerId</th>\n",
       "      <th>Survived</th>\n",
       "      <th>Pclass</th>\n",
       "      <th>Name</th>\n",
       "      <th>Sex</th>\n",
       "      <th>Age</th>\n",
       "      <th>SibSp</th>\n",
       "      <th>Parch</th>\n",
       "      <th>Ticket</th>\n",
       "      <th>Fare</th>\n",
       "      <th>Cabin</th>\n",
       "      <th>Embarked</th>\n",
       "    </tr>\n",
       "  </thead>\n",
       "  <tbody>\n",
       "    <tr>\n",
       "      <th>0</th>\n",
       "      <td>1</td>\n",
       "      <td>0</td>\n",
       "      <td>3</td>\n",
       "      <td>Braund, Mr. Owen Harris</td>\n",
       "      <td>male</td>\n",
       "      <td>22.0</td>\n",
       "      <td>1</td>\n",
       "      <td>0</td>\n",
       "      <td>A/5 21171</td>\n",
       "      <td>7.2500</td>\n",
       "      <td>NaN</td>\n",
       "      <td>S</td>\n",
       "    </tr>\n",
       "    <tr>\n",
       "      <th>1</th>\n",
       "      <td>2</td>\n",
       "      <td>1</td>\n",
       "      <td>1</td>\n",
       "      <td>Cumings, Mrs. John Bradley (Florence Briggs Th...</td>\n",
       "      <td>female</td>\n",
       "      <td>38.0</td>\n",
       "      <td>1</td>\n",
       "      <td>0</td>\n",
       "      <td>PC 17599</td>\n",
       "      <td>71.2833</td>\n",
       "      <td>C85</td>\n",
       "      <td>C</td>\n",
       "    </tr>\n",
       "    <tr>\n",
       "      <th>2</th>\n",
       "      <td>3</td>\n",
       "      <td>1</td>\n",
       "      <td>3</td>\n",
       "      <td>Heikkinen, Miss. Laina</td>\n",
       "      <td>female</td>\n",
       "      <td>26.0</td>\n",
       "      <td>0</td>\n",
       "      <td>0</td>\n",
       "      <td>STON/O2. 3101282</td>\n",
       "      <td>7.9250</td>\n",
       "      <td>NaN</td>\n",
       "      <td>S</td>\n",
       "    </tr>\n",
       "    <tr>\n",
       "      <th>3</th>\n",
       "      <td>4</td>\n",
       "      <td>1</td>\n",
       "      <td>1</td>\n",
       "      <td>Futrelle, Mrs. Jacques Heath (Lily May Peel)</td>\n",
       "      <td>female</td>\n",
       "      <td>35.0</td>\n",
       "      <td>1</td>\n",
       "      <td>0</td>\n",
       "      <td>113803</td>\n",
       "      <td>53.1000</td>\n",
       "      <td>C123</td>\n",
       "      <td>S</td>\n",
       "    </tr>\n",
       "    <tr>\n",
       "      <th>4</th>\n",
       "      <td>5</td>\n",
       "      <td>0</td>\n",
       "      <td>3</td>\n",
       "      <td>Allen, Mr. William Henry</td>\n",
       "      <td>male</td>\n",
       "      <td>35.0</td>\n",
       "      <td>0</td>\n",
       "      <td>0</td>\n",
       "      <td>373450</td>\n",
       "      <td>8.0500</td>\n",
       "      <td>NaN</td>\n",
       "      <td>S</td>\n",
       "    </tr>\n",
       "  </tbody>\n",
       "</table>\n",
       "</div>"
      ],
      "text/plain": [
       "   PassengerId  Survived  Pclass  \\\n",
       "0            1         0       3   \n",
       "1            2         1       1   \n",
       "2            3         1       3   \n",
       "3            4         1       1   \n",
       "4            5         0       3   \n",
       "\n",
       "                                                Name     Sex   Age  SibSp  \\\n",
       "0                            Braund, Mr. Owen Harris    male  22.0      1   \n",
       "1  Cumings, Mrs. John Bradley (Florence Briggs Th...  female  38.0      1   \n",
       "2                             Heikkinen, Miss. Laina  female  26.0      0   \n",
       "3       Futrelle, Mrs. Jacques Heath (Lily May Peel)  female  35.0      1   \n",
       "4                           Allen, Mr. William Henry    male  35.0      0   \n",
       "\n",
       "   Parch            Ticket     Fare Cabin Embarked  \n",
       "0      0         A/5 21171   7.2500   NaN        S  \n",
       "1      0          PC 17599  71.2833   C85        C  \n",
       "2      0  STON/O2. 3101282   7.9250   NaN        S  \n",
       "3      0            113803  53.1000  C123        S  \n",
       "4      0            373450   8.0500   NaN        S  "
      ]
     },
     "execution_count": 2,
     "metadata": {},
     "output_type": "execute_result"
    }
   ],
   "source": [
    "# Read the datasets \n",
    "train_data = pd.read_csv(r\"D:\\Data Science Internship CodeAlpha\\Task 1\\taitanic dataset\\train.csv\")\n",
    "test_data = pd.read_csv(r\"D:\\Data Science Internship CodeAlpha\\Task 1\\taitanic dataset\\test.csv\")\n",
    "\n",
    "# Display the first few rows of each dataset \n",
    "train_data.head()"
   ]
  },
  {
   "cell_type": "code",
   "execution_count": 3,
   "metadata": {
    "execution": {
     "iopub.execute_input": "2025-01-18T14:07:59.440145Z",
     "iopub.status.busy": "2025-01-18T14:07:59.439703Z",
     "iopub.status.idle": "2025-01-18T14:07:59.454748Z",
     "shell.execute_reply": "2025-01-18T14:07:59.453407Z",
     "shell.execute_reply.started": "2025-01-18T14:07:59.440101Z"
    },
    "trusted": true
   },
   "outputs": [
    {
     "data": {
      "text/html": [
       "<div>\n",
       "<style scoped>\n",
       "    .dataframe tbody tr th:only-of-type {\n",
       "        vertical-align: middle;\n",
       "    }\n",
       "\n",
       "    .dataframe tbody tr th {\n",
       "        vertical-align: top;\n",
       "    }\n",
       "\n",
       "    .dataframe thead th {\n",
       "        text-align: right;\n",
       "    }\n",
       "</style>\n",
       "<table border=\"1\" class=\"dataframe\">\n",
       "  <thead>\n",
       "    <tr style=\"text-align: right;\">\n",
       "      <th></th>\n",
       "      <th>PassengerId</th>\n",
       "      <th>Pclass</th>\n",
       "      <th>Name</th>\n",
       "      <th>Sex</th>\n",
       "      <th>Age</th>\n",
       "      <th>SibSp</th>\n",
       "      <th>Parch</th>\n",
       "      <th>Ticket</th>\n",
       "      <th>Fare</th>\n",
       "      <th>Cabin</th>\n",
       "      <th>Embarked</th>\n",
       "    </tr>\n",
       "  </thead>\n",
       "  <tbody>\n",
       "    <tr>\n",
       "      <th>0</th>\n",
       "      <td>892</td>\n",
       "      <td>3</td>\n",
       "      <td>Kelly, Mr. James</td>\n",
       "      <td>male</td>\n",
       "      <td>34.5</td>\n",
       "      <td>0</td>\n",
       "      <td>0</td>\n",
       "      <td>330911</td>\n",
       "      <td>7.8292</td>\n",
       "      <td>NaN</td>\n",
       "      <td>Q</td>\n",
       "    </tr>\n",
       "    <tr>\n",
       "      <th>1</th>\n",
       "      <td>893</td>\n",
       "      <td>3</td>\n",
       "      <td>Wilkes, Mrs. James (Ellen Needs)</td>\n",
       "      <td>female</td>\n",
       "      <td>47.0</td>\n",
       "      <td>1</td>\n",
       "      <td>0</td>\n",
       "      <td>363272</td>\n",
       "      <td>7.0000</td>\n",
       "      <td>NaN</td>\n",
       "      <td>S</td>\n",
       "    </tr>\n",
       "    <tr>\n",
       "      <th>2</th>\n",
       "      <td>894</td>\n",
       "      <td>2</td>\n",
       "      <td>Myles, Mr. Thomas Francis</td>\n",
       "      <td>male</td>\n",
       "      <td>62.0</td>\n",
       "      <td>0</td>\n",
       "      <td>0</td>\n",
       "      <td>240276</td>\n",
       "      <td>9.6875</td>\n",
       "      <td>NaN</td>\n",
       "      <td>Q</td>\n",
       "    </tr>\n",
       "    <tr>\n",
       "      <th>3</th>\n",
       "      <td>895</td>\n",
       "      <td>3</td>\n",
       "      <td>Wirz, Mr. Albert</td>\n",
       "      <td>male</td>\n",
       "      <td>27.0</td>\n",
       "      <td>0</td>\n",
       "      <td>0</td>\n",
       "      <td>315154</td>\n",
       "      <td>8.6625</td>\n",
       "      <td>NaN</td>\n",
       "      <td>S</td>\n",
       "    </tr>\n",
       "    <tr>\n",
       "      <th>4</th>\n",
       "      <td>896</td>\n",
       "      <td>3</td>\n",
       "      <td>Hirvonen, Mrs. Alexander (Helga E Lindqvist)</td>\n",
       "      <td>female</td>\n",
       "      <td>22.0</td>\n",
       "      <td>1</td>\n",
       "      <td>1</td>\n",
       "      <td>3101298</td>\n",
       "      <td>12.2875</td>\n",
       "      <td>NaN</td>\n",
       "      <td>S</td>\n",
       "    </tr>\n",
       "  </tbody>\n",
       "</table>\n",
       "</div>"
      ],
      "text/plain": [
       "   PassengerId  Pclass                                          Name     Sex  \\\n",
       "0          892       3                              Kelly, Mr. James    male   \n",
       "1          893       3              Wilkes, Mrs. James (Ellen Needs)  female   \n",
       "2          894       2                     Myles, Mr. Thomas Francis    male   \n",
       "3          895       3                              Wirz, Mr. Albert    male   \n",
       "4          896       3  Hirvonen, Mrs. Alexander (Helga E Lindqvist)  female   \n",
       "\n",
       "    Age  SibSp  Parch   Ticket     Fare Cabin Embarked  \n",
       "0  34.5      0      0   330911   7.8292   NaN        Q  \n",
       "1  47.0      1      0   363272   7.0000   NaN        S  \n",
       "2  62.0      0      0   240276   9.6875   NaN        Q  \n",
       "3  27.0      0      0   315154   8.6625   NaN        S  \n",
       "4  22.0      1      1  3101298  12.2875   NaN        S  "
      ]
     },
     "execution_count": 3,
     "metadata": {},
     "output_type": "execute_result"
    }
   ],
   "source": [
    "test_data.head()"
   ]
  },
  {
   "cell_type": "code",
   "execution_count": 4,
   "metadata": {
    "execution": {
     "iopub.execute_input": "2025-01-18T14:07:59.457396Z",
     "iopub.status.busy": "2025-01-18T14:07:59.457020Z",
     "iopub.status.idle": "2025-01-18T14:07:59.478715Z",
     "shell.execute_reply": "2025-01-18T14:07:59.477492Z",
     "shell.execute_reply.started": "2025-01-18T14:07:59.457367Z"
    },
    "trusted": true
   },
   "outputs": [
    {
     "name": "stdout",
     "output_type": "stream",
     "text": [
      "train missing values\n",
      " PassengerId      0\n",
      "Survived         0\n",
      "Pclass           0\n",
      "Name             0\n",
      "Sex              0\n",
      "Age            177\n",
      "SibSp            0\n",
      "Parch            0\n",
      "Ticket           0\n",
      "Fare             0\n",
      "Cabin          687\n",
      "Embarked         2\n",
      "dtype: int64\n",
      "\n",
      "test missing values\n",
      " PassengerId      0\n",
      "Pclass           0\n",
      "Name             0\n",
      "Sex              0\n",
      "Age             86\n",
      "SibSp            0\n",
      "Parch            0\n",
      "Ticket           0\n",
      "Fare             1\n",
      "Cabin          327\n",
      "Embarked         0\n",
      "dtype: int64\n"
     ]
    }
   ],
   "source": [
    "# Check for missing values in train and test datasets\n",
    "train_missing = train_data.isnull().sum()\n",
    "test_missing = test_data.isnull().sum()\n",
    "\n",
    "# Display missing values summary\n",
    "print(\"train missing values\\n\", train_missing)\n",
    "print()\n",
    "print(\"test missing values\\n\", test_missing)\n"
   ]
  },
  {
   "cell_type": "code",
   "execution_count": 5,
   "metadata": {
    "execution": {
     "iopub.execute_input": "2025-01-18T14:07:59.480707Z",
     "iopub.status.busy": "2025-01-18T14:07:59.480369Z",
     "iopub.status.idle": "2025-01-18T14:07:59.505089Z",
     "shell.execute_reply": "2025-01-18T14:07:59.503835Z",
     "shell.execute_reply.started": "2025-01-18T14:07:59.480681Z"
    },
    "trusted": true
   },
   "outputs": [],
   "source": [
    "# Fill missing 'Age' values with the median grouped by 'Pclass' and 'Sex'\n",
    "train_data['Age'] = train_data['Age'].fillna(\n",
    "    train_data.groupby(['Pclass', 'Sex'])['Age'].transform('median'))\n",
    "\n",
    "test_data['Age'] = test_data['Age'].fillna(\n",
    "    test_data.groupby(['Pclass', 'Sex'])['Age'].transform('median'))"
   ]
  },
  {
   "cell_type": "code",
   "execution_count": 6,
   "metadata": {
    "execution": {
     "iopub.execute_input": "2025-01-18T14:07:59.506725Z",
     "iopub.status.busy": "2025-01-18T14:07:59.506287Z",
     "iopub.status.idle": "2025-01-18T14:07:59.514983Z",
     "shell.execute_reply": "2025-01-18T14:07:59.513749Z",
     "shell.execute_reply.started": "2025-01-18T14:07:59.506691Z"
    },
    "trusted": true
   },
   "outputs": [],
   "source": [
    "# Fill missing 'Embarked' values with the mode\n",
    "train_data['Embarked'] = train_data['Embarked'].fillna(train_data['Embarked'].mode()[0])"
   ]
  },
  {
   "cell_type": "code",
   "execution_count": 7,
   "metadata": {
    "execution": {
     "iopub.execute_input": "2025-01-18T14:07:59.516497Z",
     "iopub.status.busy": "2025-01-18T14:07:59.516133Z",
     "iopub.status.idle": "2025-01-18T14:07:59.534974Z",
     "shell.execute_reply": "2025-01-18T14:07:59.533777Z",
     "shell.execute_reply.started": "2025-01-18T14:07:59.516469Z"
    },
    "trusted": true
   },
   "outputs": [],
   "source": [
    "# Fill missing 'Fare' value in test data with the median\n",
    "test_data['Fare'] = test_data['Fare'].fillna(test_data['Fare'].median())"
   ]
  },
  {
   "cell_type": "code",
   "execution_count": 8,
   "metadata": {
    "execution": {
     "iopub.execute_input": "2025-01-18T14:07:59.536778Z",
     "iopub.status.busy": "2025-01-18T14:07:59.536351Z",
     "iopub.status.idle": "2025-01-18T14:07:59.556585Z",
     "shell.execute_reply": "2025-01-18T14:07:59.555304Z",
     "shell.execute_reply.started": "2025-01-18T14:07:59.536742Z"
    },
    "trusted": true
   },
   "outputs": [],
   "source": [
    "# Drop 'Cabin' column due to the large number of missing values\n",
    "train_data = train_data.drop(columns=['Cabin'])\n",
    "test_data = test_data.drop(columns=['Cabin'])"
   ]
  },
  {
   "cell_type": "code",
   "execution_count": 9,
   "metadata": {
    "execution": {
     "iopub.execute_input": "2025-01-18T14:07:59.560706Z",
     "iopub.status.busy": "2025-01-18T14:07:59.560249Z",
     "iopub.status.idle": "2025-01-18T14:07:59.584810Z",
     "shell.execute_reply": "2025-01-18T14:07:59.583572Z",
     "shell.execute_reply.started": "2025-01-18T14:07:59.560668Z"
    },
    "trusted": true
   },
   "outputs": [
    {
     "name": "stdout",
     "output_type": "stream",
     "text": [
      "train missing values\n",
      " PassengerId    0\n",
      "Survived       0\n",
      "Pclass         0\n",
      "Name           0\n",
      "Sex            0\n",
      "Age            0\n",
      "SibSp          0\n",
      "Parch          0\n",
      "Ticket         0\n",
      "Fare           0\n",
      "Embarked       0\n",
      "dtype: int64\n",
      "\n",
      "test missing values\n",
      " PassengerId    0\n",
      "Pclass         0\n",
      "Name           0\n",
      "Sex            0\n",
      "Age            0\n",
      "SibSp          0\n",
      "Parch          0\n",
      "Ticket         0\n",
      "Fare           0\n",
      "Embarked       0\n",
      "dtype: int64\n"
     ]
    }
   ],
   "source": [
    "print(\"train missing values\\n\", train_data.isnull().sum())\n",
    "print()\n",
    "print(\"test missing values\\n\", test_data.isnull().sum())"
   ]
  },
  {
   "cell_type": "code",
   "execution_count": 10,
   "metadata": {
    "execution": {
     "iopub.execute_input": "2025-01-18T14:07:59.587368Z",
     "iopub.status.busy": "2025-01-18T14:07:59.586961Z",
     "iopub.status.idle": "2025-01-18T14:07:59.609231Z",
     "shell.execute_reply": "2025-01-18T14:07:59.608004Z",
     "shell.execute_reply.started": "2025-01-18T14:07:59.587280Z"
    },
    "trusted": true
   },
   "outputs": [],
   "source": [
    "# Encode 'Sex' and 'Embarked' as numerical values\n",
    "train_data['Sex'] = train_data['Sex'].map({'male': 0, 'female': 1})\n",
    "test_data['Sex'] = test_data['Sex'].map({'male': 0, 'female': 1})\n",
    "\n",
    "train_data['Embarked'] = train_data['Embarked'].map({'C': 0, 'Q': 1, 'S': 2})\n",
    "test_data['Embarked'] = test_data['Embarked'].map({'C': 0, 'Q': 1, 'S': 2})"
   ]
  },
  {
   "cell_type": "code",
   "execution_count": 11,
   "metadata": {
    "execution": {
     "iopub.execute_input": "2025-01-18T14:07:59.610856Z",
     "iopub.status.busy": "2025-01-18T14:07:59.610435Z",
     "iopub.status.idle": "2025-01-18T14:07:59.638080Z",
     "shell.execute_reply": "2025-01-18T14:07:59.636808Z",
     "shell.execute_reply.started": "2025-01-18T14:07:59.610815Z"
    },
    "trusted": true
   },
   "outputs": [],
   "source": [
    "# Create a new feature 'FamilySize' (SibSp + Parch + 1)\n",
    "train_data['FamilySize'] = train_data['SibSp'] + train_data['Parch'] + 1\n",
    "test_data['FamilySize'] = test_data['SibSp'] + test_data['Parch'] + 1"
   ]
  },
  {
   "cell_type": "code",
   "execution_count": 12,
   "metadata": {
    "execution": {
     "iopub.execute_input": "2025-01-18T14:07:59.639638Z",
     "iopub.status.busy": "2025-01-18T14:07:59.639289Z",
     "iopub.status.idle": "2025-01-18T14:07:59.661221Z",
     "shell.execute_reply": "2025-01-18T14:07:59.660014Z",
     "shell.execute_reply.started": "2025-01-18T14:07:59.639610Z"
    },
    "trusted": true
   },
   "outputs": [],
   "source": [
    "# Extract titles from the 'Name' column\n",
    "train_data['Title'] = train_data['Name'].str.extract(' ([A-Za-z]+)\\.', expand=False)\n",
    "test_data['Title'] = test_data['Name'].str.extract(' ([A-Za-z]+)\\.', expand=False)\n",
    "\n",
    "# Simplify titles into common categories\n",
    "title_mapping = {\n",
    "    'Mr': 0, 'Miss': 1, 'Mrs': 2, 'Master': 3, 'Dr': 4, 'Rev': 4, 'Col': 4, \n",
    "    'Major': 4, 'Mlle': 1, 'Countess': 2, 'Ms': 1, 'Lady': 2, 'Jonkheer': 4, \n",
    "    'Don': 4, 'Mme': 2, 'Capt': 4, 'Sir': 4\n",
    "}\n",
    "train_data['Title'] = train_data['Title'].map(title_mapping).fillna(4)\n",
    "test_data['Title'] = test_data['Title'].map(title_mapping).fillna(4)"
   ]
  },
  {
   "cell_type": "code",
   "execution_count": 13,
   "metadata": {
    "execution": {
     "iopub.execute_input": "2025-01-18T14:07:59.662934Z",
     "iopub.status.busy": "2025-01-18T14:07:59.662526Z",
     "iopub.status.idle": "2025-01-18T14:07:59.696082Z",
     "shell.execute_reply": "2025-01-18T14:07:59.694668Z",
     "shell.execute_reply.started": "2025-01-18T14:07:59.662881Z"
    },
    "trusted": true
   },
   "outputs": [
    {
     "data": {
      "text/html": [
       "<div>\n",
       "<style scoped>\n",
       "    .dataframe tbody tr th:only-of-type {\n",
       "        vertical-align: middle;\n",
       "    }\n",
       "\n",
       "    .dataframe tbody tr th {\n",
       "        vertical-align: top;\n",
       "    }\n",
       "\n",
       "    .dataframe thead th {\n",
       "        text-align: right;\n",
       "    }\n",
       "</style>\n",
       "<table border=\"1\" class=\"dataframe\">\n",
       "  <thead>\n",
       "    <tr style=\"text-align: right;\">\n",
       "      <th></th>\n",
       "      <th>Survived</th>\n",
       "      <th>Pclass</th>\n",
       "      <th>Sex</th>\n",
       "      <th>Age</th>\n",
       "      <th>SibSp</th>\n",
       "      <th>Parch</th>\n",
       "      <th>Fare</th>\n",
       "      <th>Embarked</th>\n",
       "      <th>FamilySize</th>\n",
       "      <th>Title</th>\n",
       "    </tr>\n",
       "  </thead>\n",
       "  <tbody>\n",
       "    <tr>\n",
       "      <th>0</th>\n",
       "      <td>0</td>\n",
       "      <td>3</td>\n",
       "      <td>0</td>\n",
       "      <td>22.0</td>\n",
       "      <td>1</td>\n",
       "      <td>0</td>\n",
       "      <td>7.2500</td>\n",
       "      <td>2</td>\n",
       "      <td>2</td>\n",
       "      <td>0</td>\n",
       "    </tr>\n",
       "    <tr>\n",
       "      <th>1</th>\n",
       "      <td>1</td>\n",
       "      <td>1</td>\n",
       "      <td>1</td>\n",
       "      <td>38.0</td>\n",
       "      <td>1</td>\n",
       "      <td>0</td>\n",
       "      <td>71.2833</td>\n",
       "      <td>0</td>\n",
       "      <td>2</td>\n",
       "      <td>2</td>\n",
       "    </tr>\n",
       "    <tr>\n",
       "      <th>2</th>\n",
       "      <td>1</td>\n",
       "      <td>3</td>\n",
       "      <td>1</td>\n",
       "      <td>26.0</td>\n",
       "      <td>0</td>\n",
       "      <td>0</td>\n",
       "      <td>7.9250</td>\n",
       "      <td>2</td>\n",
       "      <td>1</td>\n",
       "      <td>1</td>\n",
       "    </tr>\n",
       "    <tr>\n",
       "      <th>3</th>\n",
       "      <td>1</td>\n",
       "      <td>1</td>\n",
       "      <td>1</td>\n",
       "      <td>35.0</td>\n",
       "      <td>1</td>\n",
       "      <td>0</td>\n",
       "      <td>53.1000</td>\n",
       "      <td>2</td>\n",
       "      <td>2</td>\n",
       "      <td>2</td>\n",
       "    </tr>\n",
       "    <tr>\n",
       "      <th>4</th>\n",
       "      <td>0</td>\n",
       "      <td>3</td>\n",
       "      <td>0</td>\n",
       "      <td>35.0</td>\n",
       "      <td>0</td>\n",
       "      <td>0</td>\n",
       "      <td>8.0500</td>\n",
       "      <td>2</td>\n",
       "      <td>1</td>\n",
       "      <td>0</td>\n",
       "    </tr>\n",
       "  </tbody>\n",
       "</table>\n",
       "</div>"
      ],
      "text/plain": [
       "   Survived  Pclass  Sex   Age  SibSp  Parch     Fare  Embarked  FamilySize  \\\n",
       "0         0       3    0  22.0      1      0   7.2500         2           2   \n",
       "1         1       1    1  38.0      1      0  71.2833         0           2   \n",
       "2         1       3    1  26.0      0      0   7.9250         2           1   \n",
       "3         1       1    1  35.0      1      0  53.1000         2           2   \n",
       "4         0       3    0  35.0      0      0   8.0500         2           1   \n",
       "\n",
       "   Title  \n",
       "0      0  \n",
       "1      2  \n",
       "2      1  \n",
       "3      2  \n",
       "4      0  "
      ]
     },
     "execution_count": 13,
     "metadata": {},
     "output_type": "execute_result"
    }
   ],
   "source": [
    "# Drop columns that won't be used in the model\n",
    "train_data = train_data.drop(columns=['PassengerId', 'Name', 'Ticket'])\n",
    "test_data = test_data.drop(columns=['PassengerId', 'Name', 'Ticket'])\n",
    "\n",
    "# Display the first few rows of the processed train dataset\n",
    "train_data.head()"
   ]
  },
  {
   "cell_type": "code",
   "execution_count": 14,
   "metadata": {
    "execution": {
     "iopub.execute_input": "2025-01-18T14:07:59.698068Z",
     "iopub.status.busy": "2025-01-18T14:07:59.697517Z",
     "iopub.status.idle": "2025-01-18T14:07:59.719859Z",
     "shell.execute_reply": "2025-01-18T14:07:59.718343Z",
     "shell.execute_reply.started": "2025-01-18T14:07:59.698025Z"
    },
    "trusted": true
   },
   "outputs": [
    {
     "data": {
      "text/html": [
       "<div>\n",
       "<style scoped>\n",
       "    .dataframe tbody tr th:only-of-type {\n",
       "        vertical-align: middle;\n",
       "    }\n",
       "\n",
       "    .dataframe tbody tr th {\n",
       "        vertical-align: top;\n",
       "    }\n",
       "\n",
       "    .dataframe thead th {\n",
       "        text-align: right;\n",
       "    }\n",
       "</style>\n",
       "<table border=\"1\" class=\"dataframe\">\n",
       "  <thead>\n",
       "    <tr style=\"text-align: right;\">\n",
       "      <th></th>\n",
       "      <th>Pclass</th>\n",
       "      <th>Sex</th>\n",
       "      <th>Age</th>\n",
       "      <th>SibSp</th>\n",
       "      <th>Parch</th>\n",
       "      <th>Fare</th>\n",
       "      <th>Embarked</th>\n",
       "      <th>FamilySize</th>\n",
       "      <th>Title</th>\n",
       "    </tr>\n",
       "  </thead>\n",
       "  <tbody>\n",
       "    <tr>\n",
       "      <th>0</th>\n",
       "      <td>3</td>\n",
       "      <td>0</td>\n",
       "      <td>34.5</td>\n",
       "      <td>0</td>\n",
       "      <td>0</td>\n",
       "      <td>7.8292</td>\n",
       "      <td>1</td>\n",
       "      <td>1</td>\n",
       "      <td>0.0</td>\n",
       "    </tr>\n",
       "    <tr>\n",
       "      <th>1</th>\n",
       "      <td>3</td>\n",
       "      <td>1</td>\n",
       "      <td>47.0</td>\n",
       "      <td>1</td>\n",
       "      <td>0</td>\n",
       "      <td>7.0000</td>\n",
       "      <td>2</td>\n",
       "      <td>2</td>\n",
       "      <td>2.0</td>\n",
       "    </tr>\n",
       "    <tr>\n",
       "      <th>2</th>\n",
       "      <td>2</td>\n",
       "      <td>0</td>\n",
       "      <td>62.0</td>\n",
       "      <td>0</td>\n",
       "      <td>0</td>\n",
       "      <td>9.6875</td>\n",
       "      <td>1</td>\n",
       "      <td>1</td>\n",
       "      <td>0.0</td>\n",
       "    </tr>\n",
       "    <tr>\n",
       "      <th>3</th>\n",
       "      <td>3</td>\n",
       "      <td>0</td>\n",
       "      <td>27.0</td>\n",
       "      <td>0</td>\n",
       "      <td>0</td>\n",
       "      <td>8.6625</td>\n",
       "      <td>2</td>\n",
       "      <td>1</td>\n",
       "      <td>0.0</td>\n",
       "    </tr>\n",
       "    <tr>\n",
       "      <th>4</th>\n",
       "      <td>3</td>\n",
       "      <td>1</td>\n",
       "      <td>22.0</td>\n",
       "      <td>1</td>\n",
       "      <td>1</td>\n",
       "      <td>12.2875</td>\n",
       "      <td>2</td>\n",
       "      <td>3</td>\n",
       "      <td>2.0</td>\n",
       "    </tr>\n",
       "  </tbody>\n",
       "</table>\n",
       "</div>"
      ],
      "text/plain": [
       "   Pclass  Sex   Age  SibSp  Parch     Fare  Embarked  FamilySize  Title\n",
       "0       3    0  34.5      0      0   7.8292         1           1    0.0\n",
       "1       3    1  47.0      1      0   7.0000         2           2    2.0\n",
       "2       2    0  62.0      0      0   9.6875         1           1    0.0\n",
       "3       3    0  27.0      0      0   8.6625         2           1    0.0\n",
       "4       3    1  22.0      1      1  12.2875         2           3    2.0"
      ]
     },
     "execution_count": 14,
     "metadata": {},
     "output_type": "execute_result"
    }
   ],
   "source": [
    "test_data.head()"
   ]
  },
  {
   "cell_type": "markdown",
   "metadata": {},
   "source": [
    "# Exploratory Data Analysis (EDA)"
   ]
  },
  {
   "cell_type": "code",
   "execution_count": 15,
   "metadata": {
    "execution": {
     "iopub.execute_input": "2025-01-18T14:07:59.721484Z",
     "iopub.status.busy": "2025-01-18T14:07:59.721065Z",
     "iopub.status.idle": "2025-01-18T14:07:59.747076Z",
     "shell.execute_reply": "2025-01-18T14:07:59.746029Z",
     "shell.execute_reply.started": "2025-01-18T14:07:59.721445Z"
    },
    "trusted": true
   },
   "outputs": [
    {
     "name": "stdout",
     "output_type": "stream",
     "text": [
      "Dataset Info:\n",
      "<class 'pandas.core.frame.DataFrame'>\n",
      "RangeIndex: 891 entries, 0 to 890\n",
      "Data columns (total 10 columns):\n",
      " #   Column      Non-Null Count  Dtype  \n",
      "---  ------      --------------  -----  \n",
      " 0   Survived    891 non-null    int64  \n",
      " 1   Pclass      891 non-null    int64  \n",
      " 2   Sex         891 non-null    int64  \n",
      " 3   Age         891 non-null    float64\n",
      " 4   SibSp       891 non-null    int64  \n",
      " 5   Parch       891 non-null    int64  \n",
      " 6   Fare        891 non-null    float64\n",
      " 7   Embarked    891 non-null    int64  \n",
      " 8   FamilySize  891 non-null    int64  \n",
      " 9   Title       891 non-null    int64  \n",
      "dtypes: float64(2), int64(8)\n",
      "memory usage: 69.7 KB\n",
      "None\n",
      "\n",
      "Missing Values:\n",
      " Survived      0\n",
      "Pclass        0\n",
      "Sex           0\n",
      "Age           0\n",
      "SibSp         0\n",
      "Parch         0\n",
      "Fare          0\n",
      "Embarked      0\n",
      "FamilySize    0\n",
      "Title         0\n",
      "dtype: int64\n"
     ]
    }
   ],
   "source": [
    "# Basic Data Overview\n",
    "print(\"Dataset Info:\")\n",
    "print(train_data.info())\n",
    "print(\"\\nMissing Values:\\n\", train_data.isnull().sum())"
   ]
  },
  {
   "cell_type": "code",
   "execution_count": 16,
   "metadata": {
    "execution": {
     "iopub.execute_input": "2025-01-18T14:07:59.748939Z",
     "iopub.status.busy": "2025-01-18T14:07:59.748285Z",
     "iopub.status.idle": "2025-01-18T14:07:59.918576Z",
     "shell.execute_reply": "2025-01-18T14:07:59.917513Z",
     "shell.execute_reply.started": "2025-01-18T14:07:59.748814Z"
    },
    "trusted": true
   },
   "outputs": [
    {
     "data": {
      "image/png": "[encoded data removed]",
      "text/plain": [
       "<Figure size 640x480 with 1 Axes>"
      ]
     },
     "metadata": {},
     "output_type": "display_data"
    }
   ],
   "source": [
    "# Distribution of the Target Variable\n",
    "sns.countplot(data=train_data, x='Survived', palette='Set2')\n",
    "plt.title('Survival Distribution')\n",
    "plt.xlabel('Survived (0 = No, 1 = Yes)')\n",
    "plt.ylabel('Count')\n",
    "plt.show()\n"
   ]
  },
  {
   "cell_type": "code",
   "execution_count": 17,
   "metadata": {
    "execution": {
     "iopub.execute_input": "2025-01-18T14:07:59.920191Z",
     "iopub.status.busy": "2025-01-18T14:07:59.919795Z",
     "iopub.status.idle": "2025-01-18T14:08:00.570178Z",
     "shell.execute_reply": "2025-01-18T14:08:00.568607Z",
     "shell.execute_reply.started": "2025-01-18T14:07:59.920157Z"
    },
    "trusted": true
   },
   "outputs": [
    {
     "data": {
      "image/png": "[encoded data removed]",
      "text/plain": [
       "<Figure size 640x480 with 1 Axes>"
      ]
     },
     "metadata": {},
     "output_type": "display_data"
    },
    {
     "data": {
      "image/png": "[encoded data removed]",
      "text/plain": [
       "<Figure size 640x480 with 1 Axes>"
      ]
     },
     "metadata": {},
     "output_type": "display_data"
    },
    {
     "data": {
      "image/png": "[encoded data removed]",
      "text/plain": [
       "<Figure size 640x480 with 1 Axes>"
      ]
     },
     "metadata": {},
     "output_type": "display_data"
    }
   ],
   "source": [
    "# Analyze Categorical Features\n",
    "\n",
    "# Survival by Pclass\n",
    "sns.countplot(data=train_data, x='Pclass', hue='Survived', palette='Set2')\n",
    "plt.title('Survival by Passenger Class')\n",
    "plt.xlabel('Passenger Class')\n",
    "plt.ylabel('Count')\n",
    "plt.legend(title='Survived', labels=['Not Survived (0)', 'Survived (1)'])\n",
    "plt.show()\n",
    "\n",
    "# Survival by Sex\n",
    "sns.countplot(data=train_data, x='Sex', hue='Survived', palette='Set2')\n",
    "plt.title('Survival by Gender')\n",
    "plt.xlabel('Gender')\n",
    "plt.ylabel('Count')\n",
    "plt.xticks(ticks=[0, 1], labels=['Male', 'Female'])\n",
    "plt.legend(title='Survived', labels=['Not Survived (0)', 'Survived (1)'])\n",
    "plt.show()\n",
    "\n",
    "# Survival by Embarked\n",
    "sns.countplot(data=train_data, x='Embarked', hue='Survived', palette='Set2')\n",
    "plt.title('Survival by Embarkation Port')\n",
    "plt.xlabel('Embarked (C = Cherbourg, Q = Queenstown, S = Southampton)')\n",
    "plt.ylabel('Count')\n",
    "plt.xticks(ticks=[0, 1, 2], labels=['Cherbourg (C)', 'Queenstown (Q)', 'Southampton (S)'])\n",
    "plt.legend(title='Survived', labels=['Not Survived (0)', 'Survived (1)'])\n",
    "plt.show()"
   ]
  },
  {
   "cell_type": "code",
   "execution_count": 18,
   "metadata": {
    "execution": {
     "iopub.execute_input": "2025-01-18T14:08:00.574280Z",
     "iopub.status.busy": "2025-01-18T14:08:00.573834Z",
     "iopub.status.idle": "2025-01-18T14:08:00.866855Z",
     "shell.execute_reply": "2025-01-18T14:08:00.865731Z",
     "shell.execute_reply.started": "2025-01-18T14:08:00.574245Z"
    },
    "trusted": true
   },
   "outputs": [
    {
     "data": {
      "image/png": "[encoded data removed]",
      "text/plain": [
       "<Figure size 640x480 with 1 Axes>"
      ]
     },
     "metadata": {},
     "output_type": "display_data"
    }
   ],
   "source": [
    "# Distribution of Age\n",
    "sns.histplot(train_data['Age'].dropna(), kde=True, bins=30)\n",
    "plt.title('Age Distribution')\n",
    "plt.xlabel('Age')\n",
    "plt.ylabel('Frequency')\n",
    "plt.show()"
   ]
  },
  {
   "cell_type": "code",
   "execution_count": 19,
   "metadata": {
    "execution": {
     "iopub.execute_input": "2025-01-18T14:08:00.869226Z",
     "iopub.status.busy": "2025-01-18T14:08:00.868737Z",
     "iopub.status.idle": "2025-01-18T14:08:01.153062Z",
     "shell.execute_reply": "2025-01-18T14:08:01.151916Z",
     "shell.execute_reply.started": "2025-01-18T14:08:00.869191Z"
    },
    "trusted": true
   },
   "outputs": [
    {
     "data": {
      "image/png": "[encoded data removed]",
      "text/plain": [
       "<Figure size 640x480 with 1 Axes>"
      ]
     },
     "metadata": {},
     "output_type": "display_data"
    }
   ],
   "source": [
    "# Family Size\n",
    "sns.countplot(data=train_data, x='FamilySize', hue='Survived', palette='Set2')\n",
    "plt.title('Survival by Family Size')\n",
    "plt.xlabel('Family Size')\n",
    "plt.ylabel('Count')\n",
    "plt.legend(title='Survived', labels=['Not Survived (0)', 'Survived (1)'])\n",
    "plt.show()"
   ]
  },
  {
   "cell_type": "code",
   "execution_count": 20,
   "metadata": {
    "execution": {
     "iopub.execute_input": "2025-01-18T14:08:01.154453Z",
     "iopub.status.busy": "2025-01-18T14:08:01.154151Z",
     "iopub.status.idle": "2025-01-18T14:08:01.502328Z",
     "shell.execute_reply": "2025-01-18T14:08:01.500958Z",
     "shell.execute_reply.started": "2025-01-18T14:08:01.154426Z"
    },
    "trusted": true
   },
   "outputs": [
    {
     "data": {
      "image/png": "[encoded data removed]",
      "text/plain": [
       "<Figure size 640x480 with 2 Axes>"
      ]
     },
     "metadata": {},
     "output_type": "display_data"
    }
   ],
   "source": [
    "# Correlation Heatmap\n",
    "corr_matrix = train_data[['Survived', 'Pclass', 'Age', 'SibSp', 'Parch', 'Fare']].corr()\n",
    "sns.heatmap(corr_matrix, annot=True, cmap='coolwarm', fmt=\".2f\")\n",
    "plt.title('Correlation Heatmap')\n",
    "plt.show()\n"
   ]
  },
  {
   "cell_type": "markdown",
   "metadata": {},
   "source": [
    "# Build a Prediction Model"
   ]
  },
  {
   "cell_type": "code",
   "execution_count": 21,
   "metadata": {
    "execution": {
     "iopub.execute_input": "2025-01-18T14:08:01.503916Z",
     "iopub.status.busy": "2025-01-18T14:08:01.503529Z",
     "iopub.status.idle": "2025-01-18T14:08:01.516736Z",
     "shell.execute_reply": "2025-01-18T14:08:01.514766Z",
     "shell.execute_reply.started": "2025-01-18T14:08:01.503858Z"
    },
    "trusted": true
   },
   "outputs": [],
   "source": [
    "# Separate features and target\n",
    "X = train_data.drop(columns=['Survived'])\n",
    "y = train_data['Survived']\n",
    "\n",
    "# Split the train dataset into train and validation sets\n",
    "X_train, X_val, y_train, y_val = train_test_split(X, y, test_size=0.2, random_state=42)"
   ]
  },
  {
   "cell_type": "markdown",
   "metadata": {},
   "source": [
    "## Logistic Regression model"
   ]
  },
  {
   "cell_type": "code",
   "execution_count": 22,
   "metadata": {
    "execution": {
     "iopub.execute_input": "2025-01-18T14:08:01.518873Z",
     "iopub.status.busy": "2025-01-18T14:08:01.518331Z",
     "iopub.status.idle": "2025-01-18T14:08:01.609771Z",
     "shell.execute_reply": "2025-01-18T14:08:01.608531Z",
     "shell.execute_reply.started": "2025-01-18T14:08:01.518827Z"
    },
    "trusted": true
   },
   "outputs": [
    {
     "name": "stdout",
     "output_type": "stream",
     "text": [
      "Accuracy: 0.7988826815642458\n",
      "\n",
      "Classification Report:\n",
      "               precision    recall  f1-score   support\n",
      "\n",
      "           0       0.83      0.83      0.83       105\n",
      "           1       0.76      0.76      0.76        74\n",
      "\n",
      "    accuracy                           0.80       179\n",
      "   macro avg       0.79      0.79      0.79       179\n",
      "weighted avg       0.80      0.80      0.80       179\n",
      "\n",
      "\n",
      "Confusion Matrix:\n",
      " [[87 18]\n",
      " [18 56]]\n"
     ]
    }
   ],
   "source": [
    "# Build and train the Logistic Regression model\n",
    "l_model = LogisticRegression(max_iter=1000, random_state=42)\n",
    "l_model.fit(X_train, y_train)\n",
    "\n",
    "# Evaluate the model\n",
    "y_pred = l_model.predict(X_val)\n",
    "print(\"Accuracy:\", accuracy_score(y_val, y_pred))\n",
    "print(\"\\nClassification Report:\\n\", classification_report(y_val, y_pred))\n",
    "print(\"\\nConfusion Matrix:\\n\", confusion_matrix(y_val, y_pred))"
   ]
  },
  {
   "cell_type": "markdown",
   "metadata": {},
   "source": [
    "## Random Forest model"
   ]
  },
  {
   "cell_type": "code",
   "execution_count": 23,
   "metadata": {
    "execution": {
     "iopub.execute_input": "2025-01-18T14:08:01.611486Z",
     "iopub.status.busy": "2025-01-18T14:08:01.611048Z",
     "iopub.status.idle": "2025-01-18T14:08:01.819592Z",
     "shell.execute_reply": "2025-01-18T14:08:01.818395Z",
     "shell.execute_reply.started": "2025-01-18T14:08:01.611445Z"
    },
    "trusted": true
   },
   "outputs": [
    {
     "name": "stdout",
     "output_type": "stream",
     "text": [
      "Accuracy: 0.8324022346368715\n",
      "\n",
      "Classification Report:\n",
      "               precision    recall  f1-score   support\n",
      "\n",
      "           0       0.84      0.88      0.86       105\n",
      "           1       0.81      0.77      0.79        74\n",
      "\n",
      "    accuracy                           0.83       179\n",
      "   macro avg       0.83      0.82      0.83       179\n",
      "weighted avg       0.83      0.83      0.83       179\n",
      "\n",
      "\n",
      "Confusion Matrix:\n",
      " [[92 13]\n",
      " [17 57]]\n"
     ]
    }
   ],
   "source": [
    "# Build a Random Forest model\n",
    "model = RandomForestClassifier(random_state=42, n_estimators=100, max_depth=5)\n",
    "model.fit(X_train, y_train)\n",
    "\n",
    "# Evaluate the model\n",
    "y_pred = model.predict(X_val)\n",
    "print(\"Accuracy:\", accuracy_score(y_val, y_pred))\n",
    "print(\"\\nClassification Report:\\n\", classification_report(y_val, y_pred))\n",
    "print(\"\\nConfusion Matrix:\\n\", confusion_matrix(y_val, y_pred))"
   ]
  },
  {
   "cell_type": "markdown",
   "metadata": {},
   "source": [
    "# Predict on the test dataset"
   ]
  },
  {
   "cell_type": "code",
   "execution_count": 24,
   "metadata": {
    "execution": {
     "iopub.execute_input": "2025-01-18T14:08:01.821174Z",
     "iopub.status.busy": "2025-01-18T14:08:01.820783Z",
     "iopub.status.idle": "2025-01-18T14:08:01.838240Z",
     "shell.execute_reply": "2025-01-18T14:08:01.837202Z",
     "shell.execute_reply.started": "2025-01-18T14:08:01.821133Z"
    },
    "trusted": true
   },
   "outputs": [],
   "source": [
    "# Predict on the test dataset\n",
    "test_predictions = model.predict(test_data)"
   ]
  },
  {
   "cell_type": "code",
   "execution_count": 27,
   "metadata": {
    "execution": {
     "iopub.execute_input": "2025-01-18T14:08:48.982675Z",
     "iopub.status.busy": "2025-01-18T14:08:48.982338Z",
     "iopub.status.idle": "2025-01-18T14:08:48.994271Z",
     "shell.execute_reply": "2025-01-18T14:08:48.993045Z",
     "shell.execute_reply.started": "2025-01-18T14:08:48.982649Z"
    },
    "trusted": true
   },
   "outputs": [
    {
     "name": "stdout",
     "output_type": "stream",
     "text": [
      "Predictions saved to titanic_predictions.csv\n"
     ]
    }
   ],
   "source": [
    "# Save the predictions\n",
    "output = pd.DataFrame({'PassengerId': pd.read_csv(r\"D:\\Data Science Internship CodeAlpha\\Task 1\\taitanic dataset\\test.csv\")['PassengerId'], 'Survived': test_predictions})\n",
    "output.to_csv(\"titanic_predictions.csv\", index=False)\n",
    "print(\"Predictions saved to titanic_predictions.csv\")"
   ]
  }
 ],
 "metadata": {
  "kaggle": {
   "accelerator": "none",
   "dataSources": [
    {
     "datasetId": 1454848,
     "sourceId": 2405438,
     "sourceType": "datasetVersion"
    }
   ],
   "dockerImageVersionId": 30839,
   "isGpuEnabled": false,
   "isInternetEnabled": true,
   "language": "python",
   "sourceType": "notebook"
  },
  "kernelspec": {
   "display_name": "base",
   "language": "python",
   "name": "python3"
  },
  "language_info": {
   "codemirror_mode": {
    "name": "ipython",
    "version": 3
   },
   "file_extension": ".py",
   "mimetype": "text/x-python",
   "name": "python",
   "nbconvert_exporter": "python",
   "pygments_lexer": "ipython3",
   "version": "3.11.5"
  }
 },
 "nbformat": 4,
 "nbformat_minor": 4
}
